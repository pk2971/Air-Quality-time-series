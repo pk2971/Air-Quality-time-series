{
  "nbformat": 4,
  "nbformat_minor": 0,
  "metadata": {
    "colab": {
      "provenance": [],
      "collapsed_sections": [],
      "include_colab_link": true
    },
    "kernelspec": {
      "name": "python3",
      "display_name": "Python 3"
    },
    "language_info": {
      "name": "python"
    }
  },
  "cells": [
    {
      "cell_type": "markdown",
      "metadata": {
        "id": "view-in-github",
        "colab_type": "text"
      },
      "source": [
        "<a href=\"https://colab.research.google.com/github/pk2971/Air-Quality-vs-Temperature-time-series/blob/main/DSCI644_Assignment_5.ipynb\" target=\"_parent\"><img src=\"https://colab.research.google.com/assets/colab-badge.svg\" alt=\"Open In Colab\"/></a>"
      ]
    },
    {
      "cell_type": "code",
      "source": [
        "import pandas as pd\n",
        "from sklearn.model_selection import train_test_split\n",
        "\n",
        "\n",
        "def load_data_from_path(filepath):\n",
        "    df = pd.read_csv(filepath)\n",
        "    return df\n",
        "\n",
        "\n",
        "def load_insurance_data():\n",
        "    input_path = \"insurance.csv\"\n",
        "    df = load_data_from_path(input_path)\n",
        "    return df\n",
        "\n",
        "\n",
        "\n",
        "def save_train_test_data(Xtrain: pd.DataFrame, Ytrain: pd.DataFrame, Xtest: pd.DataFrame, Ytest: pd.DataFrame):\n",
        "    Xtrain.to_csv(\"training_data.csv\", index=False)\n",
        "    Ytrain.to_csv(\"training_data_result.csv\", index=False)\n",
        "    Xtest.to_csv(\"testing_data.csv\", index=False)\n",
        "    Ytest.to_csv(\"testing_data_result.csv\", index=False)\n",
        "    return\n",
        "\n",
        "\n",
        "def split_train_test_data(df):\n",
        "    X = df.drop(columns=[\"charges\"])\n",
        "    y = df[\"charges\"]\n",
        "    X_train, X_test, y_train, y_test = train_test_split(X, y, test_size=0.2)\n",
        "    save_train_test_data(X_train, y_train, X_test, y_test)\n",
        "    return X_train, y_train, X_test, y_test"
      ],
      "metadata": {
        "id": "U_elRBcdqXaQ"
      },
      "execution_count": null,
      "outputs": []
    },
    {
      "cell_type": "code",
      "source": [
        "from sklearn.preprocessing import LabelEncoder\n",
        "\n",
        "\n",
        "\n",
        "\n",
        "def data_preprocessing():\n",
        "   \n",
        "    df = load_insurance_data()\n",
        "   \n",
        "\n",
        "    df[\"age_range\"] = 1000\n",
        "    for i in range(len(df[\"age\"])):\n",
        "        if df[\"age\"][i] < 30:\n",
        "            df[\"age_range\"][i] = 1\n",
        "        elif 30 <= df[\"age\"][i] < 40:\n",
        "            df[\"age_range\"][i] = 2\n",
        "        elif 40 <= df[\"age\"][i] < 50:\n",
        "            df[\"age_range\"][i] = 3\n",
        "        elif df[\"age_range\"][i] >= 50:\n",
        "            df[\"age_range\"][i] = 4\n",
        "\n",
        "    df[\"have_children\"] = [\"No\" if i == 0 else \"Yes\" for i in df[\"children\"]]\n",
        "\n",
        "    cat_variable = ['sex', 'smoker', 'region', 'have_children']\n",
        "    lb = LabelEncoder()\n",
        "    df[cat_variable] = df[cat_variable].apply(lambda col: lb.fit_transform(col.astype(str)))\n",
        "\n",
        "    \n",
        "    return df\n",
        "\n",
        "\n",
        "if __name__ == '__main__':\n",
        "    \n",
        "    df=data_preprocessing()"
      ],
      "metadata": {
        "colab": {
          "base_uri": "https://localhost:8080/"
        },
        "id": "EplzdxHSqak2",
        "outputId": "83312f86-1083-4734-ff4e-9da8c9d178b5"
      },
      "execution_count": null,
      "outputs": [
        {
          "output_type": "stream",
          "name": "stderr",
          "text": [
            "/usr/local/lib/python3.7/dist-packages/ipykernel_launcher.py:16: SettingWithCopyWarning: \n",
            "A value is trying to be set on a copy of a slice from a DataFrame\n",
            "\n",
            "See the caveats in the documentation: https://pandas.pydata.org/pandas-docs/stable/user_guide/indexing.html#returning-a-view-versus-a-copy\n",
            "  app.launch_new_instance()\n",
            "/usr/local/lib/python3.7/dist-packages/ipykernel_launcher.py:18: SettingWithCopyWarning: \n",
            "A value is trying to be set on a copy of a slice from a DataFrame\n",
            "\n",
            "See the caveats in the documentation: https://pandas.pydata.org/pandas-docs/stable/user_guide/indexing.html#returning-a-view-versus-a-copy\n",
            "/usr/local/lib/python3.7/dist-packages/ipykernel_launcher.py:20: SettingWithCopyWarning: \n",
            "A value is trying to be set on a copy of a slice from a DataFrame\n",
            "\n",
            "See the caveats in the documentation: https://pandas.pydata.org/pandas-docs/stable/user_guide/indexing.html#returning-a-view-versus-a-copy\n",
            "/usr/local/lib/python3.7/dist-packages/ipykernel_launcher.py:22: SettingWithCopyWarning: \n",
            "A value is trying to be set on a copy of a slice from a DataFrame\n",
            "\n",
            "See the caveats in the documentation: https://pandas.pydata.org/pandas-docs/stable/user_guide/indexing.html#returning-a-view-versus-a-copy\n"
          ]
        }
      ]
    },
    {
      "cell_type": "code",
      "source": [],
      "metadata": {
        "id": "tOZIyx-mrQ1f"
      },
      "execution_count": null,
      "outputs": []
    },
    {
      "cell_type": "code",
      "source": [
        "df.head()"
      ],
      "metadata": {
        "colab": {
          "base_uri": "https://localhost:8080/",
          "height": 221
        },
        "id": "70yqSbtWryoj",
        "outputId": "d45adaaa-bd24-48eb-febf-99639c9cebc9"
      },
      "execution_count": null,
      "outputs": [
        {
          "output_type": "execute_result",
          "data": {
            "text/plain": [
              "   age  sex     bmi  children  smoker  region      charges  age_range  \\\n",
              "0   19    0  27.900         0       1       3  16884.92400          1   \n",
              "1   18    1  33.770         1       0       2   1725.55230          1   \n",
              "2   28    1  33.000         3       0       2   4449.46200          1   \n",
              "3   33    1  22.705         0       0       1  21984.47061          2   \n",
              "4   32    1  28.880         0       0       1   3866.85520          2   \n",
              "\n",
              "   have_children  \n",
              "0              0  \n",
              "1              1  \n",
              "2              1  \n",
              "3              0  \n",
              "4              0  "
            ],
            "text/html": [
              "\n",
              "  <div id=\"df-aabe2d3b-8502-475e-b378-6a708def60cc\">\n",
              "    <div class=\"colab-df-container\">\n",
              "      <div>\n",
              "<style scoped>\n",
              "    .dataframe tbody tr th:only-of-type {\n",
              "        vertical-align: middle;\n",
              "    }\n",
              "\n",
              "    .dataframe tbody tr th {\n",
              "        vertical-align: top;\n",
              "    }\n",
              "\n",
              "    .dataframe thead th {\n",
              "        text-align: right;\n",
              "    }\n",
              "</style>\n",
              "<table border=\"1\" class=\"dataframe\">\n",
              "  <thead>\n",
              "    <tr style=\"text-align: right;\">\n",
              "      <th></th>\n",
              "      <th>age</th>\n",
              "      <th>sex</th>\n",
              "      <th>bmi</th>\n",
              "      <th>children</th>\n",
              "      <th>smoker</th>\n",
              "      <th>region</th>\n",
              "      <th>charges</th>\n",
              "      <th>age_range</th>\n",
              "      <th>have_children</th>\n",
              "    </tr>\n",
              "  </thead>\n",
              "  <tbody>\n",
              "    <tr>\n",
              "      <th>0</th>\n",
              "      <td>19</td>\n",
              "      <td>0</td>\n",
              "      <td>27.900</td>\n",
              "      <td>0</td>\n",
              "      <td>1</td>\n",
              "      <td>3</td>\n",
              "      <td>16884.92400</td>\n",
              "      <td>1</td>\n",
              "      <td>0</td>\n",
              "    </tr>\n",
              "    <tr>\n",
              "      <th>1</th>\n",
              "      <td>18</td>\n",
              "      <td>1</td>\n",
              "      <td>33.770</td>\n",
              "      <td>1</td>\n",
              "      <td>0</td>\n",
              "      <td>2</td>\n",
              "      <td>1725.55230</td>\n",
              "      <td>1</td>\n",
              "      <td>1</td>\n",
              "    </tr>\n",
              "    <tr>\n",
              "      <th>2</th>\n",
              "      <td>28</td>\n",
              "      <td>1</td>\n",
              "      <td>33.000</td>\n",
              "      <td>3</td>\n",
              "      <td>0</td>\n",
              "      <td>2</td>\n",
              "      <td>4449.46200</td>\n",
              "      <td>1</td>\n",
              "      <td>1</td>\n",
              "    </tr>\n",
              "    <tr>\n",
              "      <th>3</th>\n",
              "      <td>33</td>\n",
              "      <td>1</td>\n",
              "      <td>22.705</td>\n",
              "      <td>0</td>\n",
              "      <td>0</td>\n",
              "      <td>1</td>\n",
              "      <td>21984.47061</td>\n",
              "      <td>2</td>\n",
              "      <td>0</td>\n",
              "    </tr>\n",
              "    <tr>\n",
              "      <th>4</th>\n",
              "      <td>32</td>\n",
              "      <td>1</td>\n",
              "      <td>28.880</td>\n",
              "      <td>0</td>\n",
              "      <td>0</td>\n",
              "      <td>1</td>\n",
              "      <td>3866.85520</td>\n",
              "      <td>2</td>\n",
              "      <td>0</td>\n",
              "    </tr>\n",
              "  </tbody>\n",
              "</table>\n",
              "</div>\n",
              "      <button class=\"colab-df-convert\" onclick=\"convertToInteractive('df-aabe2d3b-8502-475e-b378-6a708def60cc')\"\n",
              "              title=\"Convert this dataframe to an interactive table.\"\n",
              "              style=\"display:none;\">\n",
              "        \n",
              "  <svg xmlns=\"http://www.w3.org/2000/svg\" height=\"24px\"viewBox=\"0 0 24 24\"\n",
              "       width=\"24px\">\n",
              "    <path d=\"M0 0h24v24H0V0z\" fill=\"none\"/>\n",
              "    <path d=\"M18.56 5.44l.94 2.06.94-2.06 2.06-.94-2.06-.94-.94-2.06-.94 2.06-2.06.94zm-11 1L8.5 8.5l.94-2.06 2.06-.94-2.06-.94L8.5 2.5l-.94 2.06-2.06.94zm10 10l.94 2.06.94-2.06 2.06-.94-2.06-.94-.94-2.06-.94 2.06-2.06.94z\"/><path d=\"M17.41 7.96l-1.37-1.37c-.4-.4-.92-.59-1.43-.59-.52 0-1.04.2-1.43.59L10.3 9.45l-7.72 7.72c-.78.78-.78 2.05 0 2.83L4 21.41c.39.39.9.59 1.41.59.51 0 1.02-.2 1.41-.59l7.78-7.78 2.81-2.81c.8-.78.8-2.07 0-2.86zM5.41 20L4 18.59l7.72-7.72 1.47 1.35L5.41 20z\"/>\n",
              "  </svg>\n",
              "      </button>\n",
              "      \n",
              "  <style>\n",
              "    .colab-df-container {\n",
              "      display:flex;\n",
              "      flex-wrap:wrap;\n",
              "      gap: 12px;\n",
              "    }\n",
              "\n",
              "    .colab-df-convert {\n",
              "      background-color: #E8F0FE;\n",
              "      border: none;\n",
              "      border-radius: 50%;\n",
              "      cursor: pointer;\n",
              "      display: none;\n",
              "      fill: #1967D2;\n",
              "      height: 32px;\n",
              "      padding: 0 0 0 0;\n",
              "      width: 32px;\n",
              "    }\n",
              "\n",
              "    .colab-df-convert:hover {\n",
              "      background-color: #E2EBFA;\n",
              "      box-shadow: 0px 1px 2px rgba(60, 64, 67, 0.3), 0px 1px 3px 1px rgba(60, 64, 67, 0.15);\n",
              "      fill: #174EA6;\n",
              "    }\n",
              "\n",
              "    [theme=dark] .colab-df-convert {\n",
              "      background-color: #3B4455;\n",
              "      fill: #D2E3FC;\n",
              "    }\n",
              "\n",
              "    [theme=dark] .colab-df-convert:hover {\n",
              "      background-color: #434B5C;\n",
              "      box-shadow: 0px 1px 3px 1px rgba(0, 0, 0, 0.15);\n",
              "      filter: drop-shadow(0px 1px 2px rgba(0, 0, 0, 0.3));\n",
              "      fill: #FFFFFF;\n",
              "    }\n",
              "  </style>\n",
              "\n",
              "      <script>\n",
              "        const buttonEl =\n",
              "          document.querySelector('#df-aabe2d3b-8502-475e-b378-6a708def60cc button.colab-df-convert');\n",
              "        buttonEl.style.display =\n",
              "          google.colab.kernel.accessAllowed ? 'block' : 'none';\n",
              "\n",
              "        async function convertToInteractive(key) {\n",
              "          const element = document.querySelector('#df-aabe2d3b-8502-475e-b378-6a708def60cc');\n",
              "          const dataTable =\n",
              "            await google.colab.kernel.invokeFunction('convertToInteractive',\n",
              "                                                     [key], {});\n",
              "          if (!dataTable) return;\n",
              "\n",
              "          const docLinkHtml = 'Like what you see? Visit the ' +\n",
              "            '<a target=\"_blank\" href=https://colab.research.google.com/notebooks/data_table.ipynb>data table notebook</a>'\n",
              "            + ' to learn more about interactive tables.';\n",
              "          element.innerHTML = '';\n",
              "          dataTable['output_type'] = 'display_data';\n",
              "          await google.colab.output.renderOutput(dataTable, element);\n",
              "          const docLink = document.createElement('div');\n",
              "          docLink.innerHTML = docLinkHtml;\n",
              "          element.appendChild(docLink);\n",
              "        }\n",
              "      </script>\n",
              "    </div>\n",
              "  </div>\n",
              "  "
            ]
          },
          "metadata": {},
          "execution_count": 66
        }
      ]
    },
    {
      "cell_type": "code",
      "source": [
        "X_train, y_train, X_test, y_test=split_train_test_data(df)"
      ],
      "metadata": {
        "id": "OBYBTHdOtHfd"
      },
      "execution_count": null,
      "outputs": []
    },
    {
      "cell_type": "code",
      "source": [
        "from sklearn.linear_model import LinearRegression\n",
        "from sklearn.neighbors import KNeighborsRegressor\n",
        "\n",
        "\n",
        "def linear_regression(xtrain, ytrain):\n",
        "    lr = LinearRegression()\n",
        "    lr.fit(xtrain, ytrain)\n",
        "    return lr\n",
        "\n",
        "\n",
        "def k_neighbours(xtrain, ytrain):\n",
        "    knn = KNeighborsRegressor()\n",
        "    knn.fit(xtrain, ytrain)\n",
        "    return knn"
      ],
      "metadata": {
        "id": "Pn3-jklbubI4"
      },
      "execution_count": null,
      "outputs": []
    },
    {
      "cell_type": "markdown",
      "source": [
        "Pre-train tests"
      ],
      "metadata": {
        "id": "9AfuzFm87n0g"
      }
    },
    {
      "cell_type": "code",
      "source": [
        "import pandas as pd\n",
        "\n",
        "\n",
        "def predict_on_test_data(model, xtest):\n",
        "    y_test = model.predict(xtest)\n",
        "    filename = str(model.__class__.__name__)+\"predicted output.csv\"\n",
        "    prediction = pd.DataFrame(y_test)\n",
        "    pd.DataFrame(y_test).to_csv(\"data/model_testing_data/\"+filename)\n",
        "    return prediction"
      ],
      "metadata": {
        "id": "B4Bviu2nubRL"
      },
      "execution_count": null,
      "outputs": []
    },
    {
      "cell_type": "code",
      "source": [
        "import pytest\n",
        "import pandas as pd\n",
        "\n",
        "@pytest.fixture\n",
        "def data_preparation():\n",
        "    data_preprocessing()\n",
        "    return split_train_test_data()"
      ],
      "metadata": {
        "id": "D7u0_uAL6p6Q"
      },
      "execution_count": 71,
      "outputs": []
    },
    {
      "cell_type": "code",
      "source": [
        "@pytest.fixture\n",
        "def linear_regression_prediction(data_preparation):\n",
        "    xtrain, ytrain, xtest, ytest = data_preparation\n",
        "    lr = linear_regression(xtrain, ytrain)\n",
        "    ypred = predict_on_test_data(lr, xtest)\n",
        "    return xtest, ypred\n",
        "@pytest.fixture\n",
        "def k_neighbors_prediction(data_preparation):\n",
        "    xtrain, ytrain, xtest, ytest = data_preparation\n",
        "    knn = k_neighbours(xtrain, ytrain)\n",
        "    ypred = predict_on_test_data(knn, xtest)\n",
        "    return xtest, ypred"
      ],
      "metadata": {
        "id": "1WmsZfAx6qJI"
      },
      "execution_count": 73,
      "outputs": []
    },
    {
      "cell_type": "code",
      "source": [
        "def test_data_leak(data_preparation):\n",
        "    xtrain, ytrain, xtest, ytest = data_preparation\n",
        "    concat_df = pd.concat([xtrain, xtest])\n",
        "    concat_df.drop_duplicates(inplace=True)\n",
        "    assert concat_df.shape[0] == xtrain.shape[0] + xtest.shape[0]"
      ],
      "metadata": {
        "id": "sqTMA89_7O5M"
      },
      "execution_count": 75,
      "outputs": []
    },
    {
      "cell_type": "code",
      "source": [
        "def test_predicted_output_shape(linear_regression_prediction, k_neighbors_prediction):\n",
        "    print(\"Linear regression\")\n",
        "    xtest, ypred = linear_regression_prediction\n",
        "    assert ypred.shape == (xtest.shape[0], 1)\n",
        "    print(\"K nearest neighbours\")\n",
        "    xtest, ypred = k_neighbors_prediction\n",
        "    assert ypred.shape == (xtest.shape[0], )"
      ],
      "metadata": {
        "id": "3jbeEFsN7Zki"
      },
      "execution_count": 77,
      "outputs": []
    },
    {
      "cell_type": "markdown",
      "source": [
        "Post-Train tests"
      ],
      "metadata": {
        "id": "WGhg3Y9xAL8W"
      }
    },
    {
      "cell_type": "code",
      "source": [],
      "metadata": {
        "id": "I87LL_tkAP49"
      },
      "execution_count": null,
      "outputs": []
    },
    {
      "cell_type": "code",
      "source": [],
      "metadata": {
        "id": "NScFaG9tAQBR"
      },
      "execution_count": null,
      "outputs": []
    }
  ]
}